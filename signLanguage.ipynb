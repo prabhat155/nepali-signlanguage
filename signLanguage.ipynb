{
  "nbformat": 4,
  "nbformat_minor": 0,
  "metadata": {
    "colab": {
      "provenance": [],
      "gpuType": "T4"
    },
    "kernelspec": {
      "name": "python3",
      "display_name": "Python 3"
    },
    "language_info": {
      "name": "python"
    },
    "accelerator": "GPU"
  },
  "cells": [
    {
      "cell_type": "code",
      "source": [
        "import os\n",
        "import numpy as np\n",
        "import tensorflow as tf\n",
        "from tensorflow.keras import layers, models\n",
        "import kagglehub\n",
        "from sklearn.model_selection import train_test_split\n",
        "import matplotlib.pyplot as plt"
      ],
      "metadata": {
        "id": "dG6wWDdVrebz"
      },
      "execution_count": 1,
      "outputs": []
    },
    {
      "cell_type": "code",
      "source": [
        "# Download dataset\n",
        "path = kagglehub.dataset_download(\"biratpoudelrocks/nepali-sign-language-character-dataset\")\n",
        "print(\"Path to dataset files:\", path)"
      ],
      "metadata": {
        "colab": {
          "base_uri": "https://localhost:8080/"
        },
        "id": "AdQUpzFrHO38",
        "outputId": "c6454370-79e8-4c15-e6be-1b610cf69cd1"
      },
      "execution_count": 2,
      "outputs": [
        {
          "output_type": "stream",
          "name": "stdout",
          "text": [
            "Downloading from https://www.kaggle.com/api/v1/datasets/download/biratpoudelrocks/nepali-sign-language-character-dataset?dataset_version_number=1...\n"
          ]
        },
        {
          "output_type": "stream",
          "name": "stderr",
          "text": [
            "100%|██████████| 995M/995M [00:08<00:00, 127MB/s]"
          ]
        },
        {
          "output_type": "stream",
          "name": "stdout",
          "text": [
            "Extracting files...\n"
          ]
        },
        {
          "output_type": "stream",
          "name": "stderr",
          "text": [
            "\n"
          ]
        },
        {
          "output_type": "stream",
          "name": "stdout",
          "text": [
            "Path to dataset files: /root/.cache/kagglehub/datasets/biratpoudelrocks/nepali-sign-language-character-dataset/versions/1\n"
          ]
        }
      ]
    },
    {
      "cell_type": "code",
      "source": [
        "# Debug: List directory structure\n",
        "print(\"\\nDataset directory structure:\")\n",
        "for root, dirs, files in os.walk(path):\n",
        "    print(f\"Root: {root}, Dirs: {dirs}, Files: {len(files)}\")"
      ],
      "metadata": {
        "colab": {
          "base_uri": "https://localhost:8080/"
        },
        "id": "Fo0vKGYKHSM9",
        "outputId": "fcf61a13-6a58-4789-f82e-3a0c8aaf6ae3"
      },
      "execution_count": 3,
      "outputs": [
        {
          "output_type": "stream",
          "name": "stdout",
          "text": [
            "\n",
            "Dataset directory structure:\n",
            "Root: /root/.cache/kagglehub/datasets/biratpoudelrocks/nepali-sign-language-character-dataset/versions/1, Dirs: ['NSL'], Files: 0\n",
            "Root: /root/.cache/kagglehub/datasets/biratpoudelrocks/nepali-sign-language-character-dataset/versions/1/NSL, Dirs: ['Random Background', 'Plain Background'], Files: 2\n",
            "Root: /root/.cache/kagglehub/datasets/biratpoudelrocks/nepali-sign-language-character-dataset/versions/1/NSL/Random Background, Dirs: ['16', '15', '18', '12', '6', '3', '4', '20', '5', '25', '33', '35', '30', '29', '19', '0', '10', '2', '1', '28', '34', '8', '22', '17', '9', '14', '26', '23', '27', '24', '7', '32', '31', '13', '11', '21'], Files: 0\n",
            "Root: /root/.cache/kagglehub/datasets/biratpoudelrocks/nepali-sign-language-character-dataset/versions/1/NSL/Random Background/16, Dirs: [], Files: 500\n",
            "Root: /root/.cache/kagglehub/datasets/biratpoudelrocks/nepali-sign-language-character-dataset/versions/1/NSL/Random Background/15, Dirs: [], Files: 500\n",
            "Root: /root/.cache/kagglehub/datasets/biratpoudelrocks/nepali-sign-language-character-dataset/versions/1/NSL/Random Background/18, Dirs: [], Files: 500\n",
            "Root: /root/.cache/kagglehub/datasets/biratpoudelrocks/nepali-sign-language-character-dataset/versions/1/NSL/Random Background/12, Dirs: [], Files: 500\n",
            "Root: /root/.cache/kagglehub/datasets/biratpoudelrocks/nepali-sign-language-character-dataset/versions/1/NSL/Random Background/6, Dirs: [], Files: 500\n",
            "Root: /root/.cache/kagglehub/datasets/biratpoudelrocks/nepali-sign-language-character-dataset/versions/1/NSL/Random Background/3, Dirs: [], Files: 500\n",
            "Root: /root/.cache/kagglehub/datasets/biratpoudelrocks/nepali-sign-language-character-dataset/versions/1/NSL/Random Background/4, Dirs: [], Files: 500\n",
            "Root: /root/.cache/kagglehub/datasets/biratpoudelrocks/nepali-sign-language-character-dataset/versions/1/NSL/Random Background/20, Dirs: [], Files: 500\n",
            "Root: /root/.cache/kagglehub/datasets/biratpoudelrocks/nepali-sign-language-character-dataset/versions/1/NSL/Random Background/5, Dirs: [], Files: 500\n",
            "Root: /root/.cache/kagglehub/datasets/biratpoudelrocks/nepali-sign-language-character-dataset/versions/1/NSL/Random Background/25, Dirs: [], Files: 500\n",
            "Root: /root/.cache/kagglehub/datasets/biratpoudelrocks/nepali-sign-language-character-dataset/versions/1/NSL/Random Background/33, Dirs: [], Files: 500\n",
            "Root: /root/.cache/kagglehub/datasets/biratpoudelrocks/nepali-sign-language-character-dataset/versions/1/NSL/Random Background/35, Dirs: [], Files: 500\n",
            "Root: /root/.cache/kagglehub/datasets/biratpoudelrocks/nepali-sign-language-character-dataset/versions/1/NSL/Random Background/30, Dirs: [], Files: 500\n",
            "Root: /root/.cache/kagglehub/datasets/biratpoudelrocks/nepali-sign-language-character-dataset/versions/1/NSL/Random Background/29, Dirs: [], Files: 500\n",
            "Root: /root/.cache/kagglehub/datasets/biratpoudelrocks/nepali-sign-language-character-dataset/versions/1/NSL/Random Background/19, Dirs: [], Files: 500\n",
            "Root: /root/.cache/kagglehub/datasets/biratpoudelrocks/nepali-sign-language-character-dataset/versions/1/NSL/Random Background/0, Dirs: [], Files: 500\n",
            "Root: /root/.cache/kagglehub/datasets/biratpoudelrocks/nepali-sign-language-character-dataset/versions/1/NSL/Random Background/10, Dirs: [], Files: 500\n",
            "Root: /root/.cache/kagglehub/datasets/biratpoudelrocks/nepali-sign-language-character-dataset/versions/1/NSL/Random Background/2, Dirs: [], Files: 500\n",
            "Root: /root/.cache/kagglehub/datasets/biratpoudelrocks/nepali-sign-language-character-dataset/versions/1/NSL/Random Background/1, Dirs: [], Files: 500\n",
            "Root: /root/.cache/kagglehub/datasets/biratpoudelrocks/nepali-sign-language-character-dataset/versions/1/NSL/Random Background/28, Dirs: [], Files: 500\n",
            "Root: /root/.cache/kagglehub/datasets/biratpoudelrocks/nepali-sign-language-character-dataset/versions/1/NSL/Random Background/34, Dirs: [], Files: 500\n",
            "Root: /root/.cache/kagglehub/datasets/biratpoudelrocks/nepali-sign-language-character-dataset/versions/1/NSL/Random Background/8, Dirs: [], Files: 500\n",
            "Root: /root/.cache/kagglehub/datasets/biratpoudelrocks/nepali-sign-language-character-dataset/versions/1/NSL/Random Background/22, Dirs: [], Files: 500\n",
            "Root: /root/.cache/kagglehub/datasets/biratpoudelrocks/nepali-sign-language-character-dataset/versions/1/NSL/Random Background/17, Dirs: [], Files: 500\n",
            "Root: /root/.cache/kagglehub/datasets/biratpoudelrocks/nepali-sign-language-character-dataset/versions/1/NSL/Random Background/9, Dirs: [], Files: 500\n",
            "Root: /root/.cache/kagglehub/datasets/biratpoudelrocks/nepali-sign-language-character-dataset/versions/1/NSL/Random Background/14, Dirs: [], Files: 500\n",
            "Root: /root/.cache/kagglehub/datasets/biratpoudelrocks/nepali-sign-language-character-dataset/versions/1/NSL/Random Background/26, Dirs: [], Files: 500\n",
            "Root: /root/.cache/kagglehub/datasets/biratpoudelrocks/nepali-sign-language-character-dataset/versions/1/NSL/Random Background/23, Dirs: [], Files: 500\n",
            "Root: /root/.cache/kagglehub/datasets/biratpoudelrocks/nepali-sign-language-character-dataset/versions/1/NSL/Random Background/27, Dirs: [], Files: 500\n",
            "Root: /root/.cache/kagglehub/datasets/biratpoudelrocks/nepali-sign-language-character-dataset/versions/1/NSL/Random Background/24, Dirs: [], Files: 500\n",
            "Root: /root/.cache/kagglehub/datasets/biratpoudelrocks/nepali-sign-language-character-dataset/versions/1/NSL/Random Background/7, Dirs: [], Files: 500\n",
            "Root: /root/.cache/kagglehub/datasets/biratpoudelrocks/nepali-sign-language-character-dataset/versions/1/NSL/Random Background/32, Dirs: [], Files: 500\n",
            "Root: /root/.cache/kagglehub/datasets/biratpoudelrocks/nepali-sign-language-character-dataset/versions/1/NSL/Random Background/31, Dirs: [], Files: 500\n",
            "Root: /root/.cache/kagglehub/datasets/biratpoudelrocks/nepali-sign-language-character-dataset/versions/1/NSL/Random Background/13, Dirs: [], Files: 500\n",
            "Root: /root/.cache/kagglehub/datasets/biratpoudelrocks/nepali-sign-language-character-dataset/versions/1/NSL/Random Background/11, Dirs: [], Files: 500\n",
            "Root: /root/.cache/kagglehub/datasets/biratpoudelrocks/nepali-sign-language-character-dataset/versions/1/NSL/Random Background/21, Dirs: [], Files: 500\n",
            "Root: /root/.cache/kagglehub/datasets/biratpoudelrocks/nepali-sign-language-character-dataset/versions/1/NSL/Plain Background, Dirs: ['16', '15', '18', '12', '6', '3', '4', '20', '5', '25', '33', '35', '30', '29', '19', '0', '10', '2', '1', '28', '34', '8', '22', '17', '9', '14', '26', '23', '27', '24', '7', '32', '31', '13', '11', '21'], Files: 0\n",
            "Root: /root/.cache/kagglehub/datasets/biratpoudelrocks/nepali-sign-language-character-dataset/versions/1/NSL/Plain Background/16, Dirs: [], Files: 1000\n",
            "Root: /root/.cache/kagglehub/datasets/biratpoudelrocks/nepali-sign-language-character-dataset/versions/1/NSL/Plain Background/15, Dirs: [], Files: 1000\n",
            "Root: /root/.cache/kagglehub/datasets/biratpoudelrocks/nepali-sign-language-character-dataset/versions/1/NSL/Plain Background/18, Dirs: [], Files: 1000\n",
            "Root: /root/.cache/kagglehub/datasets/biratpoudelrocks/nepali-sign-language-character-dataset/versions/1/NSL/Plain Background/12, Dirs: [], Files: 1000\n",
            "Root: /root/.cache/kagglehub/datasets/biratpoudelrocks/nepali-sign-language-character-dataset/versions/1/NSL/Plain Background/6, Dirs: [], Files: 1000\n",
            "Root: /root/.cache/kagglehub/datasets/biratpoudelrocks/nepali-sign-language-character-dataset/versions/1/NSL/Plain Background/3, Dirs: [], Files: 1000\n",
            "Root: /root/.cache/kagglehub/datasets/biratpoudelrocks/nepali-sign-language-character-dataset/versions/1/NSL/Plain Background/4, Dirs: [], Files: 1000\n",
            "Root: /root/.cache/kagglehub/datasets/biratpoudelrocks/nepali-sign-language-character-dataset/versions/1/NSL/Plain Background/20, Dirs: [], Files: 1000\n",
            "Root: /root/.cache/kagglehub/datasets/biratpoudelrocks/nepali-sign-language-character-dataset/versions/1/NSL/Plain Background/5, Dirs: [], Files: 1000\n",
            "Root: /root/.cache/kagglehub/datasets/biratpoudelrocks/nepali-sign-language-character-dataset/versions/1/NSL/Plain Background/25, Dirs: [], Files: 1000\n",
            "Root: /root/.cache/kagglehub/datasets/biratpoudelrocks/nepali-sign-language-character-dataset/versions/1/NSL/Plain Background/33, Dirs: [], Files: 1000\n",
            "Root: /root/.cache/kagglehub/datasets/biratpoudelrocks/nepali-sign-language-character-dataset/versions/1/NSL/Plain Background/35, Dirs: [], Files: 1000\n",
            "Root: /root/.cache/kagglehub/datasets/biratpoudelrocks/nepali-sign-language-character-dataset/versions/1/NSL/Plain Background/30, Dirs: [], Files: 1000\n",
            "Root: /root/.cache/kagglehub/datasets/biratpoudelrocks/nepali-sign-language-character-dataset/versions/1/NSL/Plain Background/29, Dirs: [], Files: 1000\n",
            "Root: /root/.cache/kagglehub/datasets/biratpoudelrocks/nepali-sign-language-character-dataset/versions/1/NSL/Plain Background/19, Dirs: [], Files: 1000\n",
            "Root: /root/.cache/kagglehub/datasets/biratpoudelrocks/nepali-sign-language-character-dataset/versions/1/NSL/Plain Background/0, Dirs: [], Files: 1000\n",
            "Root: /root/.cache/kagglehub/datasets/biratpoudelrocks/nepali-sign-language-character-dataset/versions/1/NSL/Plain Background/10, Dirs: [], Files: 1000\n",
            "Root: /root/.cache/kagglehub/datasets/biratpoudelrocks/nepali-sign-language-character-dataset/versions/1/NSL/Plain Background/2, Dirs: [], Files: 1000\n",
            "Root: /root/.cache/kagglehub/datasets/biratpoudelrocks/nepali-sign-language-character-dataset/versions/1/NSL/Plain Background/1, Dirs: [], Files: 1000\n",
            "Root: /root/.cache/kagglehub/datasets/biratpoudelrocks/nepali-sign-language-character-dataset/versions/1/NSL/Plain Background/28, Dirs: [], Files: 1000\n",
            "Root: /root/.cache/kagglehub/datasets/biratpoudelrocks/nepali-sign-language-character-dataset/versions/1/NSL/Plain Background/34, Dirs: [], Files: 1000\n",
            "Root: /root/.cache/kagglehub/datasets/biratpoudelrocks/nepali-sign-language-character-dataset/versions/1/NSL/Plain Background/8, Dirs: [], Files: 1000\n",
            "Root: /root/.cache/kagglehub/datasets/biratpoudelrocks/nepali-sign-language-character-dataset/versions/1/NSL/Plain Background/22, Dirs: [], Files: 1000\n",
            "Root: /root/.cache/kagglehub/datasets/biratpoudelrocks/nepali-sign-language-character-dataset/versions/1/NSL/Plain Background/17, Dirs: [], Files: 1000\n",
            "Root: /root/.cache/kagglehub/datasets/biratpoudelrocks/nepali-sign-language-character-dataset/versions/1/NSL/Plain Background/9, Dirs: [], Files: 1000\n",
            "Root: /root/.cache/kagglehub/datasets/biratpoudelrocks/nepali-sign-language-character-dataset/versions/1/NSL/Plain Background/14, Dirs: [], Files: 1000\n",
            "Root: /root/.cache/kagglehub/datasets/biratpoudelrocks/nepali-sign-language-character-dataset/versions/1/NSL/Plain Background/26, Dirs: [], Files: 1000\n",
            "Root: /root/.cache/kagglehub/datasets/biratpoudelrocks/nepali-sign-language-character-dataset/versions/1/NSL/Plain Background/23, Dirs: [], Files: 1000\n",
            "Root: /root/.cache/kagglehub/datasets/biratpoudelrocks/nepali-sign-language-character-dataset/versions/1/NSL/Plain Background/27, Dirs: [], Files: 1000\n",
            "Root: /root/.cache/kagglehub/datasets/biratpoudelrocks/nepali-sign-language-character-dataset/versions/1/NSL/Plain Background/24, Dirs: [], Files: 1000\n",
            "Root: /root/.cache/kagglehub/datasets/biratpoudelrocks/nepali-sign-language-character-dataset/versions/1/NSL/Plain Background/7, Dirs: [], Files: 1000\n",
            "Root: /root/.cache/kagglehub/datasets/biratpoudelrocks/nepali-sign-language-character-dataset/versions/1/NSL/Plain Background/32, Dirs: [], Files: 1000\n",
            "Root: /root/.cache/kagglehub/datasets/biratpoudelrocks/nepali-sign-language-character-dataset/versions/1/NSL/Plain Background/31, Dirs: [], Files: 1000\n",
            "Root: /root/.cache/kagglehub/datasets/biratpoudelrocks/nepali-sign-language-character-dataset/versions/1/NSL/Plain Background/13, Dirs: [], Files: 1000\n",
            "Root: /root/.cache/kagglehub/datasets/biratpoudelrocks/nepali-sign-language-character-dataset/versions/1/NSL/Plain Background/11, Dirs: [], Files: 1000\n",
            "Root: /root/.cache/kagglehub/datasets/biratpoudelrocks/nepali-sign-language-character-dataset/versions/1/NSL/Plain Background/21, Dirs: [], Files: 1000\n"
          ]
        }
      ]
    },
    {
      "cell_type": "code",
      "source": [
        "# Define constants\n",
        "IMG_SIZE = (64, 64)  # Resize images to 64x64\n",
        "NUM_CLASSES = 36     # 36 characters\n",
        "BATCH_SIZE = 32\n",
        "EPOCHS = 20"
      ],
      "metadata": {
        "id": "Qop1FHdxHXMw"
      },
      "execution_count": 4,
      "outputs": []
    },
    {
      "cell_type": "code",
      "source": [
        "# Function to load image paths and labels\n",
        "def get_image_paths_and_labels(data_dir, background_type):\n",
        "    image_paths = []\n",
        "    labels = []\n",
        "    folder_path = os.path.join(data_dir, 'NSL', background_type)\n",
        "    if not os.path.exists(folder_path):\n",
        "        raise FileNotFoundError(f\"Directory not found: {folder_path}\")\n",
        "    for label in range(NUM_CLASSES):\n",
        "        label_folder = os.path.join(folder_path, str(label))\n",
        "        if not os.path.exists(label_folder):\n",
        "            print(f\"Warning: Folder {label_folder} not found, skipping...\")\n",
        "            continue\n",
        "        for img_name in os.listdir(label_folder):\n",
        "            img_path = os.path.join(label_folder, img_name)\n",
        "            image_paths.append(img_path)\n",
        "            labels.append(label)\n",
        "    return image_paths, labels"
      ],
      "metadata": {
        "id": "2Yu4FB8gHbBX"
      },
      "execution_count": 5,
      "outputs": []
    },
    {
      "cell_type": "code",
      "source": [
        "# Load image paths and labels\n",
        "data_dir = path\n",
        "try:\n",
        "    plain_paths, plain_labels = get_image_paths_and_labels(data_dir, 'Plain Background')\n",
        "    random_paths, random_labels = get_image_paths_and_labels(data_dir, 'Random Background')\n",
        "except FileNotFoundError as e:\n",
        "    print(f\"Error: {e}\")\n",
        "    print(\"Please check the dataset path and folder names. Possible fixes:\")\n",
        "    print(\"- Verify 'NSL/Plain Background' and 'NSL/Random Background' folders exist.\")\n",
        "    print(\"- Ensure dataset is correctly attached in Kaggle.\")\n",
        "    exit(1)"
      ],
      "metadata": {
        "id": "OcvVsgS8HeiV"
      },
      "execution_count": 6,
      "outputs": []
    },
    {
      "cell_type": "code",
      "source": [
        "# Combine datasets\n",
        "image_paths = plain_paths + random_paths\n",
        "labels = plain_labels + random_labels"
      ],
      "metadata": {
        "id": "gzRqgK8bHhie"
      },
      "execution_count": 7,
      "outputs": []
    },
    {
      "cell_type": "code",
      "source": [
        "# Convert labels to one-hot encoding\n",
        "labels = tf.keras.utils.to_categorical(labels, NUM_CLASSES)"
      ],
      "metadata": {
        "id": "k8FjGGaNHklk"
      },
      "execution_count": 8,
      "outputs": []
    },
    {
      "cell_type": "code",
      "source": [
        "# Split into train and test\n",
        "train_paths, test_paths, y_train, y_test = train_test_split(\n",
        "    image_paths, labels, test_size=0.2, random_state=42\n",
        ")"
      ],
      "metadata": {
        "id": "vJqRPn69HoJ_"
      },
      "execution_count": 9,
      "outputs": []
    },
    {
      "cell_type": "code",
      "source": [
        "# Function to load and preprocess a single image\n",
        "def load_and_preprocess_image(path, label):\n",
        "    img = tf.io.read_file(path)\n",
        "    img = tf.image.decode_jpeg(img, channels=3)\n",
        "    img = tf.image.resize(img, IMG_SIZE)\n",
        "    img = img / 255.0  # Normalize to [0,1]\n",
        "    return img, label"
      ],
      "metadata": {
        "id": "08kiiB7hHo96"
      },
      "execution_count": 10,
      "outputs": []
    },
    {
      "cell_type": "code",
      "source": [
        "# Create tf.data.Dataset for training and testing\n",
        "train_dataset = tf.data.Dataset.from_tensor_slices((train_paths, y_train))\n",
        "train_dataset = train_dataset.map(load_and_preprocess_image, num_parallel_calls=tf.data.AUTOTUNE)\n",
        "train_dataset = train_dataset.shuffle(buffer_size=1000).batch(BATCH_SIZE).prefetch(tf.data.AUTOTUNE)\n",
        "\n",
        "test_dataset = tf.data.Dataset.from_tensor_slices((test_paths, y_test))\n",
        "test_dataset = test_dataset.map(load_and_preprocess_image, num_parallel_calls=tf.data.AUTOTUNE)\n",
        "test_dataset = test_dataset.batch(BATCH_SIZE).prefetch(tf.data.AUTOTUNE)"
      ],
      "metadata": {
        "id": "bzLylD_pIKq6"
      },
      "execution_count": 11,
      "outputs": []
    },
    {
      "cell_type": "code",
      "source": [
        "# Build CNN model\n",
        "model = models.Sequential([\n",
        "    layers.Conv2D(32, (3, 3), activation='relu', input_shape=(64, 64, 3)),\n",
        "    layers.MaxPooling2D((2, 2)),\n",
        "    layers.Conv2D(64, (3, 3), activation='relu'),\n",
        "    layers.MaxPooling2D((2, 2)),\n",
        "    layers.Conv2D(128, (3, 3), activation='relu'),\n",
        "    layers.MaxPooling2D((2, 2)),\n",
        "    layers.Flatten(),\n",
        "    layers.Dense(128, activation='relu'),\n",
        "    layers.Dropout(0.5),\n",
        "    layers.Dense(NUM_CLASSES, activation='softmax')\n",
        "])\n",
        "\n",
        "# Compile model\n",
        "model.compile(optimizer='adam',\n",
        "              loss='categorical_crossentropy',\n",
        "              metrics=['accuracy'])\n",
        "\n",
        "# Model summary\n",
        "model.summary()"
      ],
      "metadata": {
        "colab": {
          "base_uri": "https://localhost:8080/",
          "height": 519
        },
        "id": "ml4siCPeIMPk",
        "outputId": "1b35680b-936c-440a-becf-5a7a4f7c5997"
      },
      "execution_count": 12,
      "outputs": [
        {
          "output_type": "stream",
          "name": "stderr",
          "text": [
            "/usr/local/lib/python3.11/dist-packages/keras/src/layers/convolutional/base_conv.py:107: UserWarning: Do not pass an `input_shape`/`input_dim` argument to a layer. When using Sequential models, prefer using an `Input(shape)` object as the first layer in the model instead.\n",
            "  super().__init__(activity_regularizer=activity_regularizer, **kwargs)\n"
          ]
        },
        {
          "output_type": "display_data",
          "data": {
            "text/plain": [
              "\u001b[1mModel: \"sequential\"\u001b[0m\n"
            ],
            "text/html": [
              "<pre style=\"white-space:pre;overflow-x:auto;line-height:normal;font-family:Menlo,'DejaVu Sans Mono',consolas,'Courier New',monospace\"><span style=\"font-weight: bold\">Model: \"sequential\"</span>\n",
              "</pre>\n"
            ]
          },
          "metadata": {}
        },
        {
          "output_type": "display_data",
          "data": {
            "text/plain": [
              "┏━━━━━━━━━━━━━━━━━━━━━━━━━━━━━━━━━┳━━━━━━━━━━━━━━━━━━━━━━━━┳━━━━━━━━━━━━━━━┓\n",
              "┃\u001b[1m \u001b[0m\u001b[1mLayer (type)                   \u001b[0m\u001b[1m \u001b[0m┃\u001b[1m \u001b[0m\u001b[1mOutput Shape          \u001b[0m\u001b[1m \u001b[0m┃\u001b[1m \u001b[0m\u001b[1m      Param #\u001b[0m\u001b[1m \u001b[0m┃\n",
              "┡━━━━━━━━━━━━━━━━━━━━━━━━━━━━━━━━━╇━━━━━━━━━━━━━━━━━━━━━━━━╇━━━━━━━━━━━━━━━┩\n",
              "│ conv2d (\u001b[38;5;33mConv2D\u001b[0m)                 │ (\u001b[38;5;45mNone\u001b[0m, \u001b[38;5;34m62\u001b[0m, \u001b[38;5;34m62\u001b[0m, \u001b[38;5;34m32\u001b[0m)     │           \u001b[38;5;34m896\u001b[0m │\n",
              "├─────────────────────────────────┼────────────────────────┼───────────────┤\n",
              "│ max_pooling2d (\u001b[38;5;33mMaxPooling2D\u001b[0m)    │ (\u001b[38;5;45mNone\u001b[0m, \u001b[38;5;34m31\u001b[0m, \u001b[38;5;34m31\u001b[0m, \u001b[38;5;34m32\u001b[0m)     │             \u001b[38;5;34m0\u001b[0m │\n",
              "├─────────────────────────────────┼────────────────────────┼───────────────┤\n",
              "│ conv2d_1 (\u001b[38;5;33mConv2D\u001b[0m)               │ (\u001b[38;5;45mNone\u001b[0m, \u001b[38;5;34m29\u001b[0m, \u001b[38;5;34m29\u001b[0m, \u001b[38;5;34m64\u001b[0m)     │        \u001b[38;5;34m18,496\u001b[0m │\n",
              "├─────────────────────────────────┼────────────────────────┼───────────────┤\n",
              "│ max_pooling2d_1 (\u001b[38;5;33mMaxPooling2D\u001b[0m)  │ (\u001b[38;5;45mNone\u001b[0m, \u001b[38;5;34m14\u001b[0m, \u001b[38;5;34m14\u001b[0m, \u001b[38;5;34m64\u001b[0m)     │             \u001b[38;5;34m0\u001b[0m │\n",
              "├─────────────────────────────────┼────────────────────────┼───────────────┤\n",
              "│ conv2d_2 (\u001b[38;5;33mConv2D\u001b[0m)               │ (\u001b[38;5;45mNone\u001b[0m, \u001b[38;5;34m12\u001b[0m, \u001b[38;5;34m12\u001b[0m, \u001b[38;5;34m128\u001b[0m)    │        \u001b[38;5;34m73,856\u001b[0m │\n",
              "├─────────────────────────────────┼────────────────────────┼───────────────┤\n",
              "│ max_pooling2d_2 (\u001b[38;5;33mMaxPooling2D\u001b[0m)  │ (\u001b[38;5;45mNone\u001b[0m, \u001b[38;5;34m6\u001b[0m, \u001b[38;5;34m6\u001b[0m, \u001b[38;5;34m128\u001b[0m)      │             \u001b[38;5;34m0\u001b[0m │\n",
              "├─────────────────────────────────┼────────────────────────┼───────────────┤\n",
              "│ flatten (\u001b[38;5;33mFlatten\u001b[0m)               │ (\u001b[38;5;45mNone\u001b[0m, \u001b[38;5;34m4608\u001b[0m)           │             \u001b[38;5;34m0\u001b[0m │\n",
              "├─────────────────────────────────┼────────────────────────┼───────────────┤\n",
              "│ dense (\u001b[38;5;33mDense\u001b[0m)                   │ (\u001b[38;5;45mNone\u001b[0m, \u001b[38;5;34m128\u001b[0m)            │       \u001b[38;5;34m589,952\u001b[0m │\n",
              "├─────────────────────────────────┼────────────────────────┼───────────────┤\n",
              "│ dropout (\u001b[38;5;33mDropout\u001b[0m)               │ (\u001b[38;5;45mNone\u001b[0m, \u001b[38;5;34m128\u001b[0m)            │             \u001b[38;5;34m0\u001b[0m │\n",
              "├─────────────────────────────────┼────────────────────────┼───────────────┤\n",
              "│ dense_1 (\u001b[38;5;33mDense\u001b[0m)                 │ (\u001b[38;5;45mNone\u001b[0m, \u001b[38;5;34m36\u001b[0m)             │         \u001b[38;5;34m4,644\u001b[0m │\n",
              "└─────────────────────────────────┴────────────────────────┴───────────────┘\n"
            ],
            "text/html": [
              "<pre style=\"white-space:pre;overflow-x:auto;line-height:normal;font-family:Menlo,'DejaVu Sans Mono',consolas,'Courier New',monospace\">┏━━━━━━━━━━━━━━━━━━━━━━━━━━━━━━━━━┳━━━━━━━━━━━━━━━━━━━━━━━━┳━━━━━━━━━━━━━━━┓\n",
              "┃<span style=\"font-weight: bold\"> Layer (type)                    </span>┃<span style=\"font-weight: bold\"> Output Shape           </span>┃<span style=\"font-weight: bold\">       Param # </span>┃\n",
              "┡━━━━━━━━━━━━━━━━━━━━━━━━━━━━━━━━━╇━━━━━━━━━━━━━━━━━━━━━━━━╇━━━━━━━━━━━━━━━┩\n",
              "│ conv2d (<span style=\"color: #0087ff; text-decoration-color: #0087ff\">Conv2D</span>)                 │ (<span style=\"color: #00d7ff; text-decoration-color: #00d7ff\">None</span>, <span style=\"color: #00af00; text-decoration-color: #00af00\">62</span>, <span style=\"color: #00af00; text-decoration-color: #00af00\">62</span>, <span style=\"color: #00af00; text-decoration-color: #00af00\">32</span>)     │           <span style=\"color: #00af00; text-decoration-color: #00af00\">896</span> │\n",
              "├─────────────────────────────────┼────────────────────────┼───────────────┤\n",
              "│ max_pooling2d (<span style=\"color: #0087ff; text-decoration-color: #0087ff\">MaxPooling2D</span>)    │ (<span style=\"color: #00d7ff; text-decoration-color: #00d7ff\">None</span>, <span style=\"color: #00af00; text-decoration-color: #00af00\">31</span>, <span style=\"color: #00af00; text-decoration-color: #00af00\">31</span>, <span style=\"color: #00af00; text-decoration-color: #00af00\">32</span>)     │             <span style=\"color: #00af00; text-decoration-color: #00af00\">0</span> │\n",
              "├─────────────────────────────────┼────────────────────────┼───────────────┤\n",
              "│ conv2d_1 (<span style=\"color: #0087ff; text-decoration-color: #0087ff\">Conv2D</span>)               │ (<span style=\"color: #00d7ff; text-decoration-color: #00d7ff\">None</span>, <span style=\"color: #00af00; text-decoration-color: #00af00\">29</span>, <span style=\"color: #00af00; text-decoration-color: #00af00\">29</span>, <span style=\"color: #00af00; text-decoration-color: #00af00\">64</span>)     │        <span style=\"color: #00af00; text-decoration-color: #00af00\">18,496</span> │\n",
              "├─────────────────────────────────┼────────────────────────┼───────────────┤\n",
              "│ max_pooling2d_1 (<span style=\"color: #0087ff; text-decoration-color: #0087ff\">MaxPooling2D</span>)  │ (<span style=\"color: #00d7ff; text-decoration-color: #00d7ff\">None</span>, <span style=\"color: #00af00; text-decoration-color: #00af00\">14</span>, <span style=\"color: #00af00; text-decoration-color: #00af00\">14</span>, <span style=\"color: #00af00; text-decoration-color: #00af00\">64</span>)     │             <span style=\"color: #00af00; text-decoration-color: #00af00\">0</span> │\n",
              "├─────────────────────────────────┼────────────────────────┼───────────────┤\n",
              "│ conv2d_2 (<span style=\"color: #0087ff; text-decoration-color: #0087ff\">Conv2D</span>)               │ (<span style=\"color: #00d7ff; text-decoration-color: #00d7ff\">None</span>, <span style=\"color: #00af00; text-decoration-color: #00af00\">12</span>, <span style=\"color: #00af00; text-decoration-color: #00af00\">12</span>, <span style=\"color: #00af00; text-decoration-color: #00af00\">128</span>)    │        <span style=\"color: #00af00; text-decoration-color: #00af00\">73,856</span> │\n",
              "├─────────────────────────────────┼────────────────────────┼───────────────┤\n",
              "│ max_pooling2d_2 (<span style=\"color: #0087ff; text-decoration-color: #0087ff\">MaxPooling2D</span>)  │ (<span style=\"color: #00d7ff; text-decoration-color: #00d7ff\">None</span>, <span style=\"color: #00af00; text-decoration-color: #00af00\">6</span>, <span style=\"color: #00af00; text-decoration-color: #00af00\">6</span>, <span style=\"color: #00af00; text-decoration-color: #00af00\">128</span>)      │             <span style=\"color: #00af00; text-decoration-color: #00af00\">0</span> │\n",
              "├─────────────────────────────────┼────────────────────────┼───────────────┤\n",
              "│ flatten (<span style=\"color: #0087ff; text-decoration-color: #0087ff\">Flatten</span>)               │ (<span style=\"color: #00d7ff; text-decoration-color: #00d7ff\">None</span>, <span style=\"color: #00af00; text-decoration-color: #00af00\">4608</span>)           │             <span style=\"color: #00af00; text-decoration-color: #00af00\">0</span> │\n",
              "├─────────────────────────────────┼────────────────────────┼───────────────┤\n",
              "│ dense (<span style=\"color: #0087ff; text-decoration-color: #0087ff\">Dense</span>)                   │ (<span style=\"color: #00d7ff; text-decoration-color: #00d7ff\">None</span>, <span style=\"color: #00af00; text-decoration-color: #00af00\">128</span>)            │       <span style=\"color: #00af00; text-decoration-color: #00af00\">589,952</span> │\n",
              "├─────────────────────────────────┼────────────────────────┼───────────────┤\n",
              "│ dropout (<span style=\"color: #0087ff; text-decoration-color: #0087ff\">Dropout</span>)               │ (<span style=\"color: #00d7ff; text-decoration-color: #00d7ff\">None</span>, <span style=\"color: #00af00; text-decoration-color: #00af00\">128</span>)            │             <span style=\"color: #00af00; text-decoration-color: #00af00\">0</span> │\n",
              "├─────────────────────────────────┼────────────────────────┼───────────────┤\n",
              "│ dense_1 (<span style=\"color: #0087ff; text-decoration-color: #0087ff\">Dense</span>)                 │ (<span style=\"color: #00d7ff; text-decoration-color: #00d7ff\">None</span>, <span style=\"color: #00af00; text-decoration-color: #00af00\">36</span>)             │         <span style=\"color: #00af00; text-decoration-color: #00af00\">4,644</span> │\n",
              "└─────────────────────────────────┴────────────────────────┴───────────────┘\n",
              "</pre>\n"
            ]
          },
          "metadata": {}
        },
        {
          "output_type": "display_data",
          "data": {
            "text/plain": [
              "\u001b[1m Total params: \u001b[0m\u001b[38;5;34m687,844\u001b[0m (2.62 MB)\n"
            ],
            "text/html": [
              "<pre style=\"white-space:pre;overflow-x:auto;line-height:normal;font-family:Menlo,'DejaVu Sans Mono',consolas,'Courier New',monospace\"><span style=\"font-weight: bold\"> Total params: </span><span style=\"color: #00af00; text-decoration-color: #00af00\">687,844</span> (2.62 MB)\n",
              "</pre>\n"
            ]
          },
          "metadata": {}
        },
        {
          "output_type": "display_data",
          "data": {
            "text/plain": [
              "\u001b[1m Trainable params: \u001b[0m\u001b[38;5;34m687,844\u001b[0m (2.62 MB)\n"
            ],
            "text/html": [
              "<pre style=\"white-space:pre;overflow-x:auto;line-height:normal;font-family:Menlo,'DejaVu Sans Mono',consolas,'Courier New',monospace\"><span style=\"font-weight: bold\"> Trainable params: </span><span style=\"color: #00af00; text-decoration-color: #00af00\">687,844</span> (2.62 MB)\n",
              "</pre>\n"
            ]
          },
          "metadata": {}
        },
        {
          "output_type": "display_data",
          "data": {
            "text/plain": [
              "\u001b[1m Non-trainable params: \u001b[0m\u001b[38;5;34m0\u001b[0m (0.00 B)\n"
            ],
            "text/html": [
              "<pre style=\"white-space:pre;overflow-x:auto;line-height:normal;font-family:Menlo,'DejaVu Sans Mono',consolas,'Courier New',monospace\"><span style=\"font-weight: bold\"> Non-trainable params: </span><span style=\"color: #00af00; text-decoration-color: #00af00\">0</span> (0.00 B)\n",
              "</pre>\n"
            ]
          },
          "metadata": {}
        }
      ]
    },
    {
      "cell_type": "code",
      "source": [
        "# Train model\n",
        "history = model.fit(train_dataset,\n",
        "                    epochs=EPOCHS,\n",
        "                    validation_data=test_dataset)"
      ],
      "metadata": {
        "colab": {
          "base_uri": "https://localhost:8080/"
        },
        "id": "ST_uQstEIQDV",
        "outputId": "638409a8-18bd-4df0-974b-25d0f23062de"
      },
      "execution_count": 13,
      "outputs": [
        {
          "output_type": "stream",
          "name": "stdout",
          "text": [
            "Epoch 1/20\n",
            "\u001b[1m1350/1350\u001b[0m \u001b[32m━━━━━━━━━━━━━━━━━━━━\u001b[0m\u001b[37m\u001b[0m \u001b[1m40s\u001b[0m 26ms/step - accuracy: 0.4183 - loss: 1.9522 - val_accuracy: 0.9534 - val_loss: 0.1534\n",
            "Epoch 2/20\n",
            "\u001b[1m1350/1350\u001b[0m \u001b[32m━━━━━━━━━━━━━━━━━━━━\u001b[0m\u001b[37m\u001b[0m \u001b[1m39s\u001b[0m 27ms/step - accuracy: 0.8801 - loss: 0.3495 - val_accuracy: 0.9667 - val_loss: 0.0956\n",
            "Epoch 3/20\n",
            "\u001b[1m1350/1350\u001b[0m \u001b[32m━━━━━━━━━━━━━━━━━━━━\u001b[0m\u001b[37m\u001b[0m \u001b[1m33s\u001b[0m 22ms/step - accuracy: 0.9246 - loss: 0.2162 - val_accuracy: 0.9834 - val_loss: 0.0560\n",
            "Epoch 4/20\n",
            "\u001b[1m1350/1350\u001b[0m \u001b[32m━━━━━━━━━━━━━━━━━━━━\u001b[0m\u001b[37m\u001b[0m \u001b[1m31s\u001b[0m 22ms/step - accuracy: 0.9368 - loss: 0.1799 - val_accuracy: 0.9867 - val_loss: 0.0418\n",
            "Epoch 5/20\n",
            "\u001b[1m1350/1350\u001b[0m \u001b[32m━━━━━━━━━━━━━━━━━━━━\u001b[0m\u001b[37m\u001b[0m \u001b[1m41s\u001b[0m 22ms/step - accuracy: 0.9560 - loss: 0.1252 - val_accuracy: 0.9902 - val_loss: 0.0292\n",
            "Epoch 6/20\n",
            "\u001b[1m1350/1350\u001b[0m \u001b[32m━━━━━━━━━━━━━━━━━━━━\u001b[0m\u001b[37m\u001b[0m \u001b[1m30s\u001b[0m 22ms/step - accuracy: 0.9641 - loss: 0.1048 - val_accuracy: 0.9902 - val_loss: 0.0276\n",
            "Epoch 7/20\n",
            "\u001b[1m1350/1350\u001b[0m \u001b[32m━━━━━━━━━━━━━━━━━━━━\u001b[0m\u001b[37m\u001b[0m \u001b[1m35s\u001b[0m 26ms/step - accuracy: 0.9692 - loss: 0.0912 - val_accuracy: 0.9930 - val_loss: 0.0224\n",
            "Epoch 8/20\n",
            "\u001b[1m1350/1350\u001b[0m \u001b[32m━━━━━━━━━━━━━━━━━━━━\u001b[0m\u001b[37m\u001b[0m \u001b[1m35s\u001b[0m 26ms/step - accuracy: 0.9720 - loss: 0.0818 - val_accuracy: 0.9934 - val_loss: 0.0210\n",
            "Epoch 9/20\n",
            "\u001b[1m1350/1350\u001b[0m \u001b[32m━━━━━━━━━━━━━━━━━━━━\u001b[0m\u001b[37m\u001b[0m \u001b[1m30s\u001b[0m 22ms/step - accuracy: 0.9757 - loss: 0.0695 - val_accuracy: 0.9959 - val_loss: 0.0151\n",
            "Epoch 10/20\n",
            "\u001b[1m1350/1350\u001b[0m \u001b[32m━━━━━━━━━━━━━━━━━━━━\u001b[0m\u001b[37m\u001b[0m \u001b[1m42s\u001b[0m 22ms/step - accuracy: 0.9802 - loss: 0.0582 - val_accuracy: 0.9835 - val_loss: 0.0562\n",
            "Epoch 11/20\n",
            "\u001b[1m1350/1350\u001b[0m \u001b[32m━━━━━━━━━━━━━━━━━━━━\u001b[0m\u001b[37m\u001b[0m \u001b[1m30s\u001b[0m 22ms/step - accuracy: 0.9802 - loss: 0.0582 - val_accuracy: 0.9965 - val_loss: 0.0111\n",
            "Epoch 12/20\n",
            "\u001b[1m1350/1350\u001b[0m \u001b[32m━━━━━━━━━━━━━━━━━━━━\u001b[0m\u001b[37m\u001b[0m \u001b[1m35s\u001b[0m 26ms/step - accuracy: 0.9841 - loss: 0.0485 - val_accuracy: 0.9957 - val_loss: 0.0145\n",
            "Epoch 13/20\n",
            "\u001b[1m1350/1350\u001b[0m \u001b[32m━━━━━━━━━━━━━━━━━━━━\u001b[0m\u001b[37m\u001b[0m \u001b[1m30s\u001b[0m 22ms/step - accuracy: 0.9823 - loss: 0.0521 - val_accuracy: 0.9948 - val_loss: 0.0145\n",
            "Epoch 14/20\n",
            "\u001b[1m1350/1350\u001b[0m \u001b[32m━━━━━━━━━━━━━━━━━━━━\u001b[0m\u001b[37m\u001b[0m \u001b[1m35s\u001b[0m 26ms/step - accuracy: 0.9858 - loss: 0.0430 - val_accuracy: 0.9974 - val_loss: 0.0081\n",
            "Epoch 15/20\n",
            "\u001b[1m1350/1350\u001b[0m \u001b[32m━━━━━━━━━━━━━━━━━━━━\u001b[0m\u001b[37m\u001b[0m \u001b[1m36s\u001b[0m 22ms/step - accuracy: 0.9893 - loss: 0.0371 - val_accuracy: 0.9886 - val_loss: 0.0367\n",
            "Epoch 16/20\n",
            "\u001b[1m1350/1350\u001b[0m \u001b[32m━━━━━━━━━━━━━━━━━━━━\u001b[0m\u001b[37m\u001b[0m \u001b[1m36s\u001b[0m 26ms/step - accuracy: 0.9870 - loss: 0.0415 - val_accuracy: 0.9962 - val_loss: 0.0111\n",
            "Epoch 17/20\n",
            "\u001b[1m1350/1350\u001b[0m \u001b[32m━━━━━━━━━━━━━━━━━━━━\u001b[0m\u001b[37m\u001b[0m \u001b[1m31s\u001b[0m 23ms/step - accuracy: 0.9877 - loss: 0.0380 - val_accuracy: 0.9971 - val_loss: 0.0111\n",
            "Epoch 18/20\n",
            "\u001b[1m1350/1350\u001b[0m \u001b[32m━━━━━━━━━━━━━━━━━━━━\u001b[0m\u001b[37m\u001b[0m \u001b[1m41s\u001b[0m 23ms/step - accuracy: 0.9896 - loss: 0.0318 - val_accuracy: 0.9962 - val_loss: 0.0119\n",
            "Epoch 19/20\n",
            "\u001b[1m1350/1350\u001b[0m \u001b[32m━━━━━━━━━━━━━━━━━━━━\u001b[0m\u001b[37m\u001b[0m \u001b[1m31s\u001b[0m 23ms/step - accuracy: 0.9914 - loss: 0.0254 - val_accuracy: 0.9945 - val_loss: 0.0196\n",
            "Epoch 20/20\n",
            "\u001b[1m1350/1350\u001b[0m \u001b[32m━━━━━━━━━━━━━━━━━━━━\u001b[0m\u001b[37m\u001b[0m \u001b[1m32s\u001b[0m 23ms/step - accuracy: 0.9877 - loss: 0.0404 - val_accuracy: 0.9945 - val_loss: 0.0221\n"
          ]
        }
      ]
    },
    {
      "cell_type": "code",
      "source": [
        "# Evaluate model\n",
        "test_loss, test_acc = model.evaluate(test_dataset)\n",
        "print(f\"\\nTest accuracy: {test_acc:.4f}\")"
      ],
      "metadata": {
        "colab": {
          "base_uri": "https://localhost:8080/"
        },
        "id": "35HCQJ7KIaQv",
        "outputId": "9a58d73e-b7ec-4ae0-c132-524826259ae4"
      },
      "execution_count": 14,
      "outputs": [
        {
          "output_type": "stream",
          "name": "stdout",
          "text": [
            "\u001b[1m338/338\u001b[0m \u001b[32m━━━━━━━━━━━━━━━━━━━━\u001b[0m\u001b[37m\u001b[0m \u001b[1m5s\u001b[0m 16ms/step - accuracy: 0.9955 - loss: 0.0216\n",
            "\n",
            "Test accuracy: 0.9945\n"
          ]
        }
      ]
    },
    {
      "cell_type": "code",
      "source": [
        "# Save model\n",
        "model.save('nepali_sign_language_cnn.h5')"
      ],
      "metadata": {
        "colab": {
          "base_uri": "https://localhost:8080/"
        },
        "id": "vHgH4Qj1IdB1",
        "outputId": "266df3dd-eb05-4456-f792-0e231a2febfe"
      },
      "execution_count": 15,
      "outputs": [
        {
          "output_type": "stream",
          "name": "stderr",
          "text": [
            "WARNING:absl:You are saving your model as an HDF5 file via `model.save()` or `keras.saving.save_model(model)`. This file format is considered legacy. We recommend using instead the native Keras format, e.g. `model.save('my_model.keras')` or `keras.saving.save_model(model, 'my_model.keras')`. \n"
          ]
        }
      ]
    },
    {
      "cell_type": "code",
      "source": [
        "# Plot training history\n",
        "plt.figure(figsize=(12, 4))\n",
        "\n",
        "# Accuracy plot\n",
        "plt.subplot(1, 2, 1)\n",
        "plt.plot(history.history['accuracy'], label='Training Accuracy')\n",
        "plt.plot(history.history['val_accuracy'], label='Validation Accuracy')\n",
        "plt.title('Model Accuracy')\n",
        "plt.xlabel('Epoch')\n",
        "plt.ylabel('Accuracy')\n",
        "plt.legend()\n",
        "\n",
        "# Loss plot\n",
        "plt.subplot(1, 2, 2)\n",
        "plt.plot(history.history['loss'], label='Training Loss')\n",
        "plt.plot(history.history['val_loss'], label='Validation Loss')\n",
        "plt.title('Model Loss')\n",
        "plt.xlabel('Epoch')\n",
        "plt.ylabel('Loss')\n",
        "plt.legend()\n",
        "\n",
        "plt.tight_layout()\n",
        "plt.savefig('training_history.png')"
      ],
      "metadata": {
        "colab": {
          "base_uri": "https://localhost:8080/",
          "height": 279
        },
        "id": "rqcy71XuIg35",
        "outputId": "8f0999d0-56bc-40a4-9aff-4d53e342fb13"
      },
      "execution_count": 16,
      "outputs": [
        {
          "output_type": "display_data",
          "data": {
            "text/plain": [
              "<Figure size 1200x400 with 2 Axes>"
            ],
            "image/png": "[encoded data removed]"
          },
          "metadata": {}
        }
      ]
    }
  ]
}